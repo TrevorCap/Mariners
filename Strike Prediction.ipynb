{
 "cells": [
  {
   "cell_type": "code",
   "execution_count": 7,
   "metadata": {},
   "outputs": [
    {
     "ename": "AttributeError",
     "evalue": "type object 'sklearn.utils.seq_dataset.SequentialDataset64' has no attribute '__reduce_cython__'",
     "output_type": "error",
     "traceback": [
      "\u001b[1;31m---------------------------------------------------------------------------\u001b[0m",
      "\u001b[1;31mAttributeError\u001b[0m                            Traceback (most recent call last)",
      "\u001b[1;32m<ipython-input-7-592100e26768>\u001b[0m in \u001b[0;36m<module>\u001b[1;34m\u001b[0m\n\u001b[0;32m      4\u001b[0m \u001b[1;32mimport\u001b[0m \u001b[0mmatplotlib\u001b[0m\u001b[1;33m.\u001b[0m\u001b[0mpatches\u001b[0m \u001b[1;32mas\u001b[0m \u001b[0mmpatches\u001b[0m\u001b[1;33m\u001b[0m\u001b[1;33m\u001b[0m\u001b[0m\n\u001b[0;32m      5\u001b[0m \u001b[1;32mfrom\u001b[0m \u001b[0msklearn\u001b[0m\u001b[1;33m.\u001b[0m\u001b[0mensemble\u001b[0m \u001b[1;32mimport\u001b[0m \u001b[0mRandomForestClassifier\u001b[0m\u001b[1;33m\u001b[0m\u001b[1;33m\u001b[0m\u001b[0m\n\u001b[1;32m----> 6\u001b[1;33m \u001b[1;32mfrom\u001b[0m \u001b[0msklearn\u001b[0m\u001b[1;33m.\u001b[0m\u001b[0mlinear_model\u001b[0m \u001b[1;32mimport\u001b[0m \u001b[0mLogisticRegression\u001b[0m\u001b[1;33m\u001b[0m\u001b[1;33m\u001b[0m\u001b[0m\n\u001b[0m\u001b[0;32m      7\u001b[0m \u001b[1;32mfrom\u001b[0m \u001b[0msklearn\u001b[0m\u001b[1;33m.\u001b[0m\u001b[0mmetrics\u001b[0m \u001b[1;32mimport\u001b[0m \u001b[0mclassification_report\u001b[0m\u001b[1;33m\u001b[0m\u001b[1;33m\u001b[0m\u001b[0m\n\u001b[0;32m      8\u001b[0m \u001b[1;32mfrom\u001b[0m \u001b[0msklearn\u001b[0m\u001b[1;33m.\u001b[0m\u001b[0mmodel_selection\u001b[0m \u001b[1;32mimport\u001b[0m \u001b[0mtrain_test_split\u001b[0m\u001b[1;33m\u001b[0m\u001b[1;33m\u001b[0m\u001b[0m\n",
      "\u001b[1;32m~\\Anaconda3\\lib\\site-packages\\sklearn\\linear_model\\__init__.py\u001b[0m in \u001b[0;36m<module>\u001b[1;34m\u001b[0m\n\u001b[0;32m     10\u001b[0m \u001b[1;31m# complete documentation.\u001b[0m\u001b[1;33m\u001b[0m\u001b[1;33m\u001b[0m\u001b[1;33m\u001b[0m\u001b[0m\n\u001b[0;32m     11\u001b[0m \u001b[1;33m\u001b[0m\u001b[0m\n\u001b[1;32m---> 12\u001b[1;33m \u001b[1;32mfrom\u001b[0m \u001b[1;33m.\u001b[0m\u001b[0mbase\u001b[0m \u001b[1;32mimport\u001b[0m \u001b[0mLinearRegression\u001b[0m\u001b[1;33m\u001b[0m\u001b[1;33m\u001b[0m\u001b[0m\n\u001b[0m\u001b[0;32m     13\u001b[0m \u001b[1;33m\u001b[0m\u001b[0m\n\u001b[0;32m     14\u001b[0m \u001b[1;32mfrom\u001b[0m \u001b[1;33m.\u001b[0m\u001b[0mbayes\u001b[0m \u001b[1;32mimport\u001b[0m \u001b[0mBayesianRidge\u001b[0m\u001b[1;33m,\u001b[0m \u001b[0mARDRegression\u001b[0m\u001b[1;33m\u001b[0m\u001b[1;33m\u001b[0m\u001b[0m\n",
      "\u001b[1;32m~\\Anaconda3\\lib\\site-packages\\sklearn\\linear_model\\base.py\u001b[0m in \u001b[0;36m<module>\u001b[1;34m\u001b[0m\n\u001b[0;32m     33\u001b[0m \u001b[1;32mfrom\u001b[0m \u001b[1;33m.\u001b[0m\u001b[1;33m.\u001b[0m\u001b[0mutils\u001b[0m\u001b[1;33m.\u001b[0m\u001b[0msparsefuncs\u001b[0m \u001b[1;32mimport\u001b[0m \u001b[0mmean_variance_axis\u001b[0m\u001b[1;33m,\u001b[0m \u001b[0minplace_column_scale\u001b[0m\u001b[1;33m\u001b[0m\u001b[1;33m\u001b[0m\u001b[0m\n\u001b[0;32m     34\u001b[0m \u001b[1;32mfrom\u001b[0m \u001b[1;33m.\u001b[0m\u001b[1;33m.\u001b[0m\u001b[0mutils\u001b[0m\u001b[1;33m.\u001b[0m\u001b[0mfixes\u001b[0m \u001b[1;32mimport\u001b[0m \u001b[0msparse_lsqr\u001b[0m\u001b[1;33m\u001b[0m\u001b[1;33m\u001b[0m\u001b[0m\n\u001b[1;32m---> 35\u001b[1;33m \u001b[1;32mfrom\u001b[0m \u001b[1;33m.\u001b[0m\u001b[1;33m.\u001b[0m\u001b[0mutils\u001b[0m\u001b[1;33m.\u001b[0m\u001b[0mseq_dataset\u001b[0m \u001b[1;32mimport\u001b[0m \u001b[0mArrayDataset32\u001b[0m\u001b[1;33m,\u001b[0m \u001b[0mCSRDataset32\u001b[0m\u001b[1;33m\u001b[0m\u001b[1;33m\u001b[0m\u001b[0m\n\u001b[0m\u001b[0;32m     36\u001b[0m \u001b[1;32mfrom\u001b[0m \u001b[1;33m.\u001b[0m\u001b[1;33m.\u001b[0m\u001b[0mutils\u001b[0m\u001b[1;33m.\u001b[0m\u001b[0mseq_dataset\u001b[0m \u001b[1;32mimport\u001b[0m \u001b[0mArrayDataset64\u001b[0m\u001b[1;33m,\u001b[0m \u001b[0mCSRDataset64\u001b[0m\u001b[1;33m\u001b[0m\u001b[1;33m\u001b[0m\u001b[0m\n\u001b[0;32m     37\u001b[0m \u001b[1;32mfrom\u001b[0m \u001b[1;33m.\u001b[0m\u001b[1;33m.\u001b[0m\u001b[0mutils\u001b[0m\u001b[1;33m.\u001b[0m\u001b[0mvalidation\u001b[0m \u001b[1;32mimport\u001b[0m \u001b[0mcheck_is_fitted\u001b[0m\u001b[1;33m\u001b[0m\u001b[1;33m\u001b[0m\u001b[0m\n",
      "\u001b[1;32msklearn\\utils\\seq_dataset.pyx\u001b[0m in \u001b[0;36minit sklearn.utils.seq_dataset\u001b[1;34m()\u001b[0m\n",
      "\u001b[1;31mAttributeError\u001b[0m: type object 'sklearn.utils.seq_dataset.SequentialDataset64' has no attribute '__reduce_cython__'"
     ]
    }
   ],
   "source": [
    "#Necessary Dependencies\n",
    "import pandas as pd\n",
    "import matplotlib.pyplot as plt\n",
    "import matplotlib.patches as mpatches\n",
    "from sklearn.ensemble import RandomForestClassifier\n",
    "from sklearn.linear_model import LogisticRegression\n",
    "from sklearn.metrics import classification_report\n",
    "from sklearn.model_selection import train_test_split\n",
    "from sklearn.preprocessing import MinMaxScaler\n",
    "import numpy as np"
   ]
  },
  {
   "cell_type": "code",
   "execution_count": null,
   "metadata": {},
   "outputs": [],
   "source": [
    "#import the data\n",
    "data = pd.read_csv('2020-train.csv')\n",
    "df = pd.read_csv('2020-test.csv')"
   ]
  },
  {
   "cell_type": "code",
   "execution_count": null,
   "metadata": {},
   "outputs": [],
   "source": [
    "#Create Mapping to numerals for mapping into the model as well as color coding for graph\n",
    "sMapping = {'InPlay': 1, 'BallCalled': 0, 'StrikeCalled' : 1, 'StrikeSwinging' : 1, 'FoulBall': 1, 'HitByPitch': 0, 'BallIntentional': 0}\n",
    "cMapping = {'InPlay': 'black', 'BallCalled': 'blue', 'StrikeCalled' : 'red', 'StrikeSwinging' : 'orange', 'FoulBall': 'black', 'HitByPitch': 'purple', 'BallIntentional': 'green'}\n",
    "sides = {'Right' : 0, 'Left': 1}"
   ]
  },
  {
   "cell_type": "code",
   "execution_count": null,
   "metadata": {},
   "outputs": [],
   "source": [
    "#create a second df for the edited version and replace blanks or infinites with placeholder figure for modelling\n",
    "data2 = data.replace([np.inf, -np.inf], np.nan)\n",
    "\n",
    "#map out the numerics for handedness\n",
    "data2.pitcher_side = list(data2['pitcher_side'].map(sides))\n",
    "data2.batter_side = list(data2['batter_side'].map(sides))\n",
    "\n",
    "# fill nas with placeholder figure for modelling\n",
    "data2 = data2.fillna(999)"
   ]
  },
  {
   "cell_type": "code",
   "execution_count": null,
   "metadata": {},
   "outputs": [],
   "source": []
  },
  {
   "cell_type": "code",
   "execution_count": null,
   "metadata": {},
   "outputs": [],
   "source": [
    "## Note that, with a larger, ongoing project, I would attempt to impute the missing values from available data\n",
    "## There are some for catcher/umpire value '9c6cbb5e' where no real imputing could be done due to what would appear to be equipment errors.\n",
    "## For the others, a K nearest neighbor filler would be an effective strategy to determine values for these values.\n",
    "## I would attempt to find similar pitches and replace the missing values with averages from similar pitches.\n",
    "## This would likely improve the accuracy of the model."
   ]
  },
  {
   "cell_type": "code",
   "execution_count": null,
   "metadata": {},
   "outputs": [],
   "source": [
    "#add is_strike column\n",
    "data2['is_strike'] = list(data2['pitch_call'].map(sMapping))"
   ]
  },
  {
   "cell_type": "code",
   "execution_count": null,
   "metadata": {},
   "outputs": [],
   "source": [
    "#Plot the pitches and color code by call\n",
    "plt.scatter(data2.plate_side, data2.plate_height, c=list(data2['pitch_call'].map(cMapping)))\n",
    "\n",
    "#Create patches which can be imported to label the legend\n",
    "inPlay = mpatches.Patch(color='black',label='In Play')\n",
    "Ball = mpatches.Patch(color='blue', label='Ball Called')\n",
    "calledStrike = mpatches.Patch(color='red',label='Strike Called')\n",
    "swingStrike = mpatches.Patch(color='orange', label='Strike Swinging')\n",
    "foulBall = mpatches.Patch(color='black',label='Foul Ball')\n",
    "HBP = mpatches.Patch(color='purple', label='Hit By Pitch')\n",
    "intBall = mpatches.Patch(color='green',label='Intentional Ball')\n",
    "\n",
    "#Use the patches to create a legend, add title, set limits\n",
    "plt.xlim((-10,10))\n",
    "plt.ylim((-7.5,15))\n",
    "plt.legend(handles=[inPlay, Ball, calledStrike, swingStrike, foulBall, HBP, intBall], prop={'size': 8})\n",
    "plt.title(\"Strike Zone\")\n",
    "\n",
    "#side note - This graph turned out to be basically useless but I still like to graph my data to make sure it doesn't look wrong"
   ]
  },
  {
   "cell_type": "code",
   "execution_count": null,
   "metadata": {},
   "outputs": [],
   "source": []
  },
  {
   "cell_type": "code",
   "execution_count": null,
   "metadata": {},
   "outputs": [],
   "source": []
  },
  {
   "cell_type": "code",
   "execution_count": null,
   "metadata": {},
   "outputs": [],
   "source": []
  },
  {
   "cell_type": "code",
   "execution_count": null,
   "metadata": {},
   "outputs": [],
   "source": [
    "#put all of the potentially relevant data points into a test and train series\n",
    "X = data2[['pitcher_side', 'batter_side', 'outs', 'balls', 'strikes',\n",
    "       'release_speed', 'vert_release_angle', 'horz_release_angle',\n",
    "       'spin_rate', 'spin_axis', 'rel_height', 'rel_side', 'extension',\n",
    "       'vert_break', 'induced_vert_break', 'horz_break', 'plate_height',\n",
    "       'plate_side', 'zone_speed', 'vert_approach_angle',\n",
    "       'horz_approach_angle', 'zone_time', 'x55', 'z55']]\n",
    "y = data2.is_strike\n",
    "X_train, X_test, y_train, y_test = train_test_split(X, y, random_state=116)"
   ]
  },
  {
   "cell_type": "code",
   "execution_count": null,
   "metadata": {},
   "outputs": [],
   "source": []
  },
  {
   "cell_type": "code",
   "execution_count": null,
   "metadata": {},
   "outputs": [],
   "source": []
  },
  {
   "cell_type": "code",
   "execution_count": null,
   "metadata": {},
   "outputs": [],
   "source": [
    "#load a random forest classifier to model the outcomes\n",
    "rf = RandomForestClassifier()"
   ]
  },
  {
   "cell_type": "code",
   "execution_count": null,
   "metadata": {},
   "outputs": [],
   "source": [
    "#fit the model to the training data\n",
    "rf = rf.fit(X_train, y_train)\n",
    "#display the scores in and out of sample\n",
    "print(f'{round(rf.score(X_train, y_train),4)* 100} % in sample.')\n",
    "print(f'{round(rf.score(X_test, y_test),4)*100} % out of sample.')"
   ]
  },
  {
   "cell_type": "code",
   "execution_count": null,
   "metadata": {},
   "outputs": [],
   "source": [
    "#Examine the feature importance for the random forest model\n",
    "[(x[0], x[1]) for x in zip(rf.feature_importances_, X.columns)]"
   ]
  },
  {
   "cell_type": "code",
   "execution_count": null,
   "metadata": {},
   "outputs": [],
   "source": []
  },
  {
   "cell_type": "code",
   "execution_count": null,
   "metadata": {},
   "outputs": [],
   "source": [
    "#create another column for the predictions made by the model\n",
    "data2['Predictions'] = rf.predict(X)"
   ]
  },
  {
   "cell_type": "code",
   "execution_count": null,
   "metadata": {
    "scrolled": true
   },
   "outputs": [],
   "source": [
    "\n"
   ]
  },
  {
   "cell_type": "code",
   "execution_count": null,
   "metadata": {},
   "outputs": [],
   "source": [
    "#Create a logistic regression model to see if it outperforms the random forest regression\n",
    "logreg = LogisticRegression()\n",
    "logreg.fit(X_train, y_train)"
   ]
  },
  {
   "cell_type": "code",
   "execution_count": null,
   "metadata": {},
   "outputs": [],
   "source": [
    "#Print prediction accuracy based on logistic regression model\n",
    "y_pred = logreg.predict(X_test)\n",
    "print('Accuracy of logistic regression classifier on train set: {:.2f}'.format(logreg.score(X_train, y_train)))\n",
    "print('Accuracy of logistic regression classifier on test set: {:.2f}'.format(logreg.score(X_test, y_test)))"
   ]
  },
  {
   "cell_type": "code",
   "execution_count": null,
   "metadata": {},
   "outputs": [],
   "source": [
    "# print the classification report for the logistic regression\n",
    "print(classification_report(y_test, y_pred))"
   ]
  },
  {
   "cell_type": "code",
   "execution_count": null,
   "metadata": {},
   "outputs": [],
   "source": [
    "#complete the same preprocessing for the test data to input into the model\n",
    "df2 = df.replace([np.inf, -np.inf], np.nan)\n",
    "df2.pitcher_side = list(df['pitcher_side'].map(sides))\n",
    "df2.batter_side = list(df['batter_side'].map(sides))\n",
    "df2 = df2.fillna(999)"
   ]
  },
  {
   "cell_type": "code",
   "execution_count": null,
   "metadata": {},
   "outputs": [],
   "source": [
    "X2 = df[['pitcher_side', 'batter_side', 'outs', 'balls', 'strikes',\n",
    "       'release_speed', 'vert_release_angle', 'horz_release_angle',\n",
    "       'spin_rate', 'spin_axis', 'rel_height', 'rel_side', 'extension',\n",
    "       'vert_break', 'induced_vert_break', 'horz_break', 'plate_height',\n",
    "       'plate_side', 'zone_speed', 'vert_approach_angle',\n",
    "       'horz_approach_angle', 'zone_time', 'x55', 'z55']]"
   ]
  },
  {
   "cell_type": "code",
   "execution_count": null,
   "metadata": {},
   "outputs": [],
   "source": [
    "df.is_strike = rf.predict(X2)"
   ]
  },
  {
   "cell_type": "code",
   "execution_count": null,
   "metadata": {},
   "outputs": [],
   "source": []
  },
  {
   "cell_type": "code",
   "execution_count": null,
   "metadata": {},
   "outputs": [],
   "source": []
  }
 ],
 "metadata": {
  "kernelspec": {
   "display_name": "Python 3",
   "language": "python",
   "name": "python3"
  },
  "language_info": {
   "codemirror_mode": {
    "name": "ipython",
    "version": 3
   },
   "file_extension": ".py",
   "mimetype": "text/x-python",
   "name": "python",
   "nbconvert_exporter": "python",
   "pygments_lexer": "ipython3",
   "version": "3.7.1"
  }
 },
 "nbformat": 4,
 "nbformat_minor": 2
}
